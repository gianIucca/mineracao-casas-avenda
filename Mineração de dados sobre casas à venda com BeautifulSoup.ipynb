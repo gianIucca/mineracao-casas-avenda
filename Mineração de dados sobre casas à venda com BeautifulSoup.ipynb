{
 "cells": [
  {
   "cell_type": "code",
   "execution_count": 2,
   "id": "5b0a8c56",
   "metadata": {},
   "outputs": [],
   "source": [
    "#Biblioteca para a mineração de dados\n",
    "from bs4 import BeautifulSoup\n",
    "\n",
    "#Biblioteca para lidar com o HTTP \n",
    "import requests\n",
    "\n",
    "#Biblioteca para exportar para csv\n",
    "from csv import writer\n",
    "\n",
    "url = 'https://www.pararius.com/apartments/amsterdam?ac=1'\n",
    "page = requests.get(url)\n",
    "#Aqui é importante dar um print(page) para ver se o request é 200, ou seja, se deu certo o request para a página\n",
    "\n",
    "soup = BeautifulSoup(page.content, 'html.parser')\n",
    "lists = soup.find_all('section')\n",
    "\n",
    "with open('casas.csv', 'w', encoding='utf8', newline='') as f:\n",
    "    thewriter = writer(f)\n",
    "    header = ['Title', 'Location', 'Price', 'Size', 'Area']\n",
    "    thewriter.writerow(header)\n",
    "    for list in lists:\n",
    "        title = list.find('a', class_ = 'listing-search-item__link--title').text.replace('\\n', '')\n",
    "        location = list.find('div', class_ = 'listing-search-item__sub-title').text.replace('\\n', '')\n",
    "        price = list.find('div', class_ = 'listing-search-item__price').text.replace('\\n', '')\n",
    "        size = list.find('ul', class_ = 'illustrated-features').text.replace('\\n', '')\n",
    "        area = list.find('a', class_ = 'listing-search-item__link').text.replace('\\n', '')\n",
    "        info = [title, location, price, size, area]\n",
    "        thewriter.writerow(info)"
   ]
  }
 ],
 "metadata": {
  "kernelspec": {
   "display_name": "Python 3",
   "language": "python",
   "name": "python3"
  },
  "language_info": {
   "codemirror_mode": {
    "name": "ipython",
    "version": 3
   },
   "file_extension": ".py",
   "mimetype": "text/x-python",
   "name": "python",
   "nbconvert_exporter": "python",
   "pygments_lexer": "ipython3",
   "version": "3.8.8"
  }
 },
 "nbformat": 4,
 "nbformat_minor": 5
}
