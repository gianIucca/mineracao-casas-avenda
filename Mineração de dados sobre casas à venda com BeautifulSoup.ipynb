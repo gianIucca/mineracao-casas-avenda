{
 "cells": [
  {
   "cell_type": "code",
   "execution_count": 94,
   "id": "574b05a3",
   "metadata": {},
   "outputs": [],
   "source": [
    "###AVISO::: TEM QUE SUBSTITUIR O RANGE (linha 19) PARA NÃO TER DUPLICATAS, VISTO QUE O SITE RETORNA PARA A \n",
    "### PRIMEIRA PÁGINA SE ELE NÃO ACHAR A PÁGINA QUE PROCUROU\n",
    "\n",
    "###Como tem anúncios patrocinados no site que estarão de volta ao topo em toda lista, temos que remover as duplicatas\n",
    "\n",
    "#Biblioteca para a mineração de dados\n",
    "from bs4 import BeautifulSoup\n",
    "\n",
    "#Biblioteca para lidar com o HTTP \n",
    "import requests\n",
    "\n",
    "#Biblioteca para exportar para csv\n",
    "import pandas as pd\n",
    "\n",
    "#Bibliotecas para visualização gráfica dos dados\n",
    "import seaborn as sns \n",
    "import matplotlib.pyplot as plt\n",
    "\n",
    "#Função para remover espaços brancos do dataframe\n",
    "def remover_espacos(df):\n",
    "    df_obj = df.select_dtypes(['object'])\n",
    "    df[df_obj.columns] = df_obj.apply(lambda x: x.str.strip())\n",
    "    \n",
    "#Função para retirar o tipo de casa da coluna Titulo e separar em duas colunas novas\n",
    "def separar_tipo_casa(df):\n",
    "    df[['Tipo_De_Casa', 'Nome']] = df['Titulo'].str.split(' ', 1, expand=True)\n",
    "    df.drop(columns=['Titulo'], inplace=True)\n",
    "    \n",
    "#Função para retirar o permonth da coluna Preço e transformar ela em numérica \n",
    "def arrumar_preco(df):\n",
    "    series = df['Preco']\n",
    "    preco_numerico = series.str.strip('€per month')\n",
    "    preco_sem_virgula = preco_numerico.str.replace(',', '')\n",
    "    df['Preco_Em_Euros'] = pd.to_numeric(preco_sem_virgula)\n",
    "    df.drop(columns=['Preco'], inplace=True)\n",
    "    \n",
    "#Criando o dataframe \n",
    "casas = pd.DataFrame(columns=['Titulo', 'Localizacao', 'Preco', 'Tamanho'])\n",
    "\n",
    "#Contador para ir para as próximas páginas, mas é necessário contar quantas páginas tem e substituir no range\n",
    "for contador in range(18):\n",
    "    url = f'https://www.pararius.com/apartments/amsterdam/page-{contador}'\n",
    "\n",
    "    page = requests.get(url)\n",
    "    #Aqui é importante dar um print(page) para ver se o request é 200, ou seja, se deu certo o request para a página\n",
    "\n",
    "    soup = BeautifulSoup(page.content, 'html.parser')\n",
    "    lists = soup.find_all('section')\n",
    "\n",
    "    for list in lists:\n",
    "        title = list.find('a', class_ = 'listing-search-item__link--title').text.replace('\\n', '')\n",
    "        location = list.find('div', class_ = 'listing-search-item__sub-title').text.replace('\\n', '')\n",
    "        price = list.find('div', class_ = 'listing-search-item__price').text.replace('\\n', '')\n",
    "        size = list.find('ul', class_ = 'illustrated-features').text.replace('\\n', '')\n",
    "        info = [title, location, price, size]\n",
    "        casas.loc[len(casas.index)] = info\n",
    "\n",
    "remover_espacos(casas)\n",
    "separar_tipo_casa(casas)\n",
    "arrumar_preco(casas)"
   ]
  },
  {
   "cell_type": "code",
   "execution_count": 95,
   "id": "24cfe247",
   "metadata": {},
   "outputs": [
    {
     "data": {
      "text/html": [
       "<div>\n",
       "<style scoped>\n",
       "    .dataframe tbody tr th:only-of-type {\n",
       "        vertical-align: middle;\n",
       "    }\n",
       "\n",
       "    .dataframe tbody tr th {\n",
       "        vertical-align: top;\n",
       "    }\n",
       "\n",
       "    .dataframe thead th {\n",
       "        text-align: right;\n",
       "    }\n",
       "</style>\n",
       "<table border=\"1\" class=\"dataframe\">\n",
       "  <thead>\n",
       "    <tr style=\"text-align: right;\">\n",
       "      <th></th>\n",
       "      <th>Localizacao</th>\n",
       "      <th>Tamanho</th>\n",
       "      <th>Tipo_De_Casa</th>\n",
       "      <th>Nome</th>\n",
       "      <th>Preco_Em_Euros</th>\n",
       "    </tr>\n",
       "  </thead>\n",
       "  <tbody>\n",
       "    <tr>\n",
       "      <th>0</th>\n",
       "      <td>1058 LT Amsterdam (Hoofddorppleinbuurt)</td>\n",
       "      <td>85 m²4 roomsFurnished</td>\n",
       "      <td>Apartment</td>\n",
       "      <td>Hillegomstraat 32 2</td>\n",
       "      <td>2800</td>\n",
       "    </tr>\n",
       "    <tr>\n",
       "      <th>1</th>\n",
       "      <td>1054 AT Amsterdam (Helmersbuurt)</td>\n",
       "      <td>155 m²5 roomsFurnished</td>\n",
       "      <td>Apartment</td>\n",
       "      <td>Bosboom Toussaintstraat</td>\n",
       "      <td>4500</td>\n",
       "    </tr>\n",
       "    <tr>\n",
       "      <th>2</th>\n",
       "      <td>1079 AM Amsterdam (Scheldebuurt)</td>\n",
       "      <td>121 m²4 roomsFurnished</td>\n",
       "      <td>Apartment</td>\n",
       "      <td>Rooseveltlaan</td>\n",
       "      <td>3995</td>\n",
       "    </tr>\n",
       "    <tr>\n",
       "      <th>3</th>\n",
       "      <td>1077 CR Amsterdam (Apollobuurt)</td>\n",
       "      <td>100 m²3 roomsUpholstered</td>\n",
       "      <td>Apartment</td>\n",
       "      <td>Olympiaplein</td>\n",
       "      <td>2700</td>\n",
       "    </tr>\n",
       "    <tr>\n",
       "      <th>4</th>\n",
       "      <td>1078 TE Amsterdam (IJselbuurt)</td>\n",
       "      <td>65 m²3 roomsUpholstered</td>\n",
       "      <td>Apartment</td>\n",
       "      <td>Meerhuizenstraat</td>\n",
       "      <td>1975</td>\n",
       "    </tr>\n",
       "    <tr>\n",
       "      <th>...</th>\n",
       "      <td>...</td>\n",
       "      <td>...</td>\n",
       "      <td>...</td>\n",
       "      <td>...</td>\n",
       "      <td>...</td>\n",
       "    </tr>\n",
       "    <tr>\n",
       "      <th>552</th>\n",
       "      <td>1075 EZ Amsterdam (Willemspark)</td>\n",
       "      <td>193 m²5 roomsUpholstered</td>\n",
       "      <td>Apartment</td>\n",
       "      <td>Valeriusstraat 219 2</td>\n",
       "      <td>5500</td>\n",
       "    </tr>\n",
       "    <tr>\n",
       "      <th>553</th>\n",
       "      <td>1078 AZ Amsterdam (Scheldebuurt)</td>\n",
       "      <td>93 m²4 roomsFurnished</td>\n",
       "      <td>Apartment</td>\n",
       "      <td>Amstelkade</td>\n",
       "      <td>2500</td>\n",
       "    </tr>\n",
       "    <tr>\n",
       "      <th>554</th>\n",
       "      <td>1093 ED Amsterdam (Dapperbuurt)</td>\n",
       "      <td>63 m²2 rooms1882</td>\n",
       "      <td>Apartment</td>\n",
       "      <td>Linnaeusstraat</td>\n",
       "      <td>2300</td>\n",
       "    </tr>\n",
       "    <tr>\n",
       "      <th>555</th>\n",
       "      <td>1015 DE Amsterdam (Grachtengordel-West)</td>\n",
       "      <td>95 m²2 roomsFurnished</td>\n",
       "      <td>Apartment</td>\n",
       "      <td>Leliegracht 12 1</td>\n",
       "      <td>2250</td>\n",
       "    </tr>\n",
       "    <tr>\n",
       "      <th>556</th>\n",
       "      <td>1015 DE Amsterdam (Grachtengordel-West)</td>\n",
       "      <td>160 m²3 roomsFurnished</td>\n",
       "      <td>Apartment</td>\n",
       "      <td>Leliegracht 12 II</td>\n",
       "      <td>3400</td>\n",
       "    </tr>\n",
       "  </tbody>\n",
       "</table>\n",
       "<p>557 rows × 5 columns</p>\n",
       "</div>"
      ],
      "text/plain": [
       "                                 Localizacao                   Tamanho  \\\n",
       "0    1058 LT Amsterdam (Hoofddorppleinbuurt)     85 m²4 roomsFurnished   \n",
       "1           1054 AT Amsterdam (Helmersbuurt)    155 m²5 roomsFurnished   \n",
       "2           1079 AM Amsterdam (Scheldebuurt)    121 m²4 roomsFurnished   \n",
       "3            1077 CR Amsterdam (Apollobuurt)  100 m²3 roomsUpholstered   \n",
       "4             1078 TE Amsterdam (IJselbuurt)   65 m²3 roomsUpholstered   \n",
       "..                                       ...                       ...   \n",
       "552          1075 EZ Amsterdam (Willemspark)  193 m²5 roomsUpholstered   \n",
       "553         1078 AZ Amsterdam (Scheldebuurt)     93 m²4 roomsFurnished   \n",
       "554          1093 ED Amsterdam (Dapperbuurt)          63 m²2 rooms1882   \n",
       "555  1015 DE Amsterdam (Grachtengordel-West)     95 m²2 roomsFurnished   \n",
       "556  1015 DE Amsterdam (Grachtengordel-West)    160 m²3 roomsFurnished   \n",
       "\n",
       "    Tipo_De_Casa                     Nome  Preco_Em_Euros  \n",
       "0      Apartment      Hillegomstraat 32 2            2800  \n",
       "1      Apartment  Bosboom Toussaintstraat            4500  \n",
       "2      Apartment            Rooseveltlaan            3995  \n",
       "3      Apartment             Olympiaplein            2700  \n",
       "4      Apartment         Meerhuizenstraat            1975  \n",
       "..           ...                      ...             ...  \n",
       "552    Apartment     Valeriusstraat 219 2            5500  \n",
       "553    Apartment               Amstelkade            2500  \n",
       "554    Apartment           Linnaeusstraat            2300  \n",
       "555    Apartment         Leliegracht 12 1            2250  \n",
       "556    Apartment        Leliegracht 12 II            3400  \n",
       "\n",
       "[557 rows x 5 columns]"
      ]
     },
     "metadata": {},
     "output_type": "display_data"
    }
   ],
   "source": [
    "display(casas)"
   ]
  },
  {
   "cell_type": "code",
   "execution_count": 99,
   "id": "fb5af2a5",
   "metadata": {},
   "outputs": [
    {
     "data": {
      "text/plain": [
       "Tamanho                  object\n",
       "Tipo_De_Casa             object\n",
       "Nome                     object\n",
       "Preco_Em_Euros            int64\n",
       "Numero_Do_Imovel         object\n",
       "Localizacao_Do_Imovel    object\n",
       "dtype: object"
      ]
     },
     "execution_count": 99,
     "metadata": {},
     "output_type": "execute_result"
    }
   ],
   "source": [
    "#Função para limpar a coluna localização e separar entre número da casa e lugar dela\n",
    "def limpar_localizacao(df):\n",
    "    series = df['Localizacao']\n",
    "    lista_numeros = []\n",
    "    lista_localizacoes = []\n",
    "    \n",
    "    for entrada in series.str.split():\n",
    "        lista_numeros.append(entrada[0])\n",
    "        lista_localizacoes.append(entrada[3])\n",
    "    \n",
    "    df['Numero_Do_Imovel'] = lista_numeros\n",
    "    df['Localizacao_Do_Imovel'] = lista_localizacoes\n",
    "    df.drop(columns=['Localizacao'], inplace=True)\n",
    "\n",
    "#limpar_localizacao(casas)\n",
    "casas.dtypes"
   ]
  },
  {
   "cell_type": "code",
   "execution_count": 70,
   "id": "b6ff4070",
   "metadata": {},
   "outputs": [
    {
     "ename": "KeyError",
     "evalue": "'Localizacao'",
     "output_type": "error",
     "traceback": [
      "\u001b[1;31m---------------------------------------------------------------------------\u001b[0m",
      "\u001b[1;31mKeyError\u001b[0m                                  Traceback (most recent call last)",
      "\u001b[1;32m~\\anaconda3\\lib\\site-packages\\pandas\\core\\indexes\\base.py\u001b[0m in \u001b[0;36mget_loc\u001b[1;34m(self, key, method, tolerance)\u001b[0m\n\u001b[0;32m   3079\u001b[0m             \u001b[1;32mtry\u001b[0m\u001b[1;33m:\u001b[0m\u001b[1;33m\u001b[0m\u001b[1;33m\u001b[0m\u001b[0m\n\u001b[1;32m-> 3080\u001b[1;33m                 \u001b[1;32mreturn\u001b[0m \u001b[0mself\u001b[0m\u001b[1;33m.\u001b[0m\u001b[0m_engine\u001b[0m\u001b[1;33m.\u001b[0m\u001b[0mget_loc\u001b[0m\u001b[1;33m(\u001b[0m\u001b[0mcasted_key\u001b[0m\u001b[1;33m)\u001b[0m\u001b[1;33m\u001b[0m\u001b[1;33m\u001b[0m\u001b[0m\n\u001b[0m\u001b[0;32m   3081\u001b[0m             \u001b[1;32mexcept\u001b[0m \u001b[0mKeyError\u001b[0m \u001b[1;32mas\u001b[0m \u001b[0merr\u001b[0m\u001b[1;33m:\u001b[0m\u001b[1;33m\u001b[0m\u001b[1;33m\u001b[0m\u001b[0m\n",
      "\u001b[1;32mpandas\\_libs\\index.pyx\u001b[0m in \u001b[0;36mpandas._libs.index.IndexEngine.get_loc\u001b[1;34m()\u001b[0m\n",
      "\u001b[1;32mpandas\\_libs\\index.pyx\u001b[0m in \u001b[0;36mpandas._libs.index.IndexEngine.get_loc\u001b[1;34m()\u001b[0m\n",
      "\u001b[1;32mpandas\\_libs\\hashtable_class_helper.pxi\u001b[0m in \u001b[0;36mpandas._libs.hashtable.PyObjectHashTable.get_item\u001b[1;34m()\u001b[0m\n",
      "\u001b[1;32mpandas\\_libs\\hashtable_class_helper.pxi\u001b[0m in \u001b[0;36mpandas._libs.hashtable.PyObjectHashTable.get_item\u001b[1;34m()\u001b[0m\n",
      "\u001b[1;31mKeyError\u001b[0m: 'Localizacao'",
      "\nThe above exception was the direct cause of the following exception:\n",
      "\u001b[1;31mKeyError\u001b[0m                                  Traceback (most recent call last)",
      "\u001b[1;32m<ipython-input-70-0ccb57ecdab0>\u001b[0m in \u001b[0;36m<module>\u001b[1;34m\u001b[0m\n\u001b[1;32m----> 1\u001b[1;33m \u001b[0mseries\u001b[0m \u001b[1;33m=\u001b[0m \u001b[0mcasas\u001b[0m\u001b[1;33m[\u001b[0m\u001b[1;34m'Localizacao'\u001b[0m\u001b[1;33m]\u001b[0m\u001b[1;33m\u001b[0m\u001b[1;33m\u001b[0m\u001b[0m\n\u001b[0m\u001b[0;32m      2\u001b[0m \u001b[1;31m#teste = series.str.split()\u001b[0m\u001b[1;33m\u001b[0m\u001b[1;33m\u001b[0m\u001b[1;33m\u001b[0m\u001b[0m\n\u001b[0;32m      3\u001b[0m \u001b[0mlista_numeros\u001b[0m\u001b[1;33m,\u001b[0m \u001b[0mlista_localizacoes\u001b[0m \u001b[1;33m=\u001b[0m \u001b[1;33m[\u001b[0m\u001b[1;33m]\u001b[0m\u001b[1;33m,\u001b[0m \u001b[1;33m[\u001b[0m\u001b[1;33m]\u001b[0m\u001b[1;33m\u001b[0m\u001b[1;33m\u001b[0m\u001b[0m\n\u001b[0;32m      4\u001b[0m \u001b[1;32mfor\u001b[0m \u001b[0mlinha\u001b[0m \u001b[1;32min\u001b[0m \u001b[0mseries\u001b[0m\u001b[1;33m:\u001b[0m\u001b[1;33m\u001b[0m\u001b[1;33m\u001b[0m\u001b[0m\n\u001b[0;32m      5\u001b[0m     \u001b[0mlista_numeros\u001b[0m\u001b[1;33m.\u001b[0m\u001b[0mappend\u001b[0m\u001b[1;33m(\u001b[0m\u001b[0mlinha\u001b[0m\u001b[1;33m[\u001b[0m\u001b[1;36m0\u001b[0m\u001b[1;33m]\u001b[0m\u001b[1;33m)\u001b[0m\u001b[1;33m\u001b[0m\u001b[1;33m\u001b[0m\u001b[0m\n",
      "\u001b[1;32m~\\anaconda3\\lib\\site-packages\\pandas\\core\\frame.py\u001b[0m in \u001b[0;36m__getitem__\u001b[1;34m(self, key)\u001b[0m\n\u001b[0;32m   3022\u001b[0m             \u001b[1;32mif\u001b[0m \u001b[0mself\u001b[0m\u001b[1;33m.\u001b[0m\u001b[0mcolumns\u001b[0m\u001b[1;33m.\u001b[0m\u001b[0mnlevels\u001b[0m \u001b[1;33m>\u001b[0m \u001b[1;36m1\u001b[0m\u001b[1;33m:\u001b[0m\u001b[1;33m\u001b[0m\u001b[1;33m\u001b[0m\u001b[0m\n\u001b[0;32m   3023\u001b[0m                 \u001b[1;32mreturn\u001b[0m \u001b[0mself\u001b[0m\u001b[1;33m.\u001b[0m\u001b[0m_getitem_multilevel\u001b[0m\u001b[1;33m(\u001b[0m\u001b[0mkey\u001b[0m\u001b[1;33m)\u001b[0m\u001b[1;33m\u001b[0m\u001b[1;33m\u001b[0m\u001b[0m\n\u001b[1;32m-> 3024\u001b[1;33m             \u001b[0mindexer\u001b[0m \u001b[1;33m=\u001b[0m \u001b[0mself\u001b[0m\u001b[1;33m.\u001b[0m\u001b[0mcolumns\u001b[0m\u001b[1;33m.\u001b[0m\u001b[0mget_loc\u001b[0m\u001b[1;33m(\u001b[0m\u001b[0mkey\u001b[0m\u001b[1;33m)\u001b[0m\u001b[1;33m\u001b[0m\u001b[1;33m\u001b[0m\u001b[0m\n\u001b[0m\u001b[0;32m   3025\u001b[0m             \u001b[1;32mif\u001b[0m \u001b[0mis_integer\u001b[0m\u001b[1;33m(\u001b[0m\u001b[0mindexer\u001b[0m\u001b[1;33m)\u001b[0m\u001b[1;33m:\u001b[0m\u001b[1;33m\u001b[0m\u001b[1;33m\u001b[0m\u001b[0m\n\u001b[0;32m   3026\u001b[0m                 \u001b[0mindexer\u001b[0m \u001b[1;33m=\u001b[0m \u001b[1;33m[\u001b[0m\u001b[0mindexer\u001b[0m\u001b[1;33m]\u001b[0m\u001b[1;33m\u001b[0m\u001b[1;33m\u001b[0m\u001b[0m\n",
      "\u001b[1;32m~\\anaconda3\\lib\\site-packages\\pandas\\core\\indexes\\base.py\u001b[0m in \u001b[0;36mget_loc\u001b[1;34m(self, key, method, tolerance)\u001b[0m\n\u001b[0;32m   3080\u001b[0m                 \u001b[1;32mreturn\u001b[0m \u001b[0mself\u001b[0m\u001b[1;33m.\u001b[0m\u001b[0m_engine\u001b[0m\u001b[1;33m.\u001b[0m\u001b[0mget_loc\u001b[0m\u001b[1;33m(\u001b[0m\u001b[0mcasted_key\u001b[0m\u001b[1;33m)\u001b[0m\u001b[1;33m\u001b[0m\u001b[1;33m\u001b[0m\u001b[0m\n\u001b[0;32m   3081\u001b[0m             \u001b[1;32mexcept\u001b[0m \u001b[0mKeyError\u001b[0m \u001b[1;32mas\u001b[0m \u001b[0merr\u001b[0m\u001b[1;33m:\u001b[0m\u001b[1;33m\u001b[0m\u001b[1;33m\u001b[0m\u001b[0m\n\u001b[1;32m-> 3082\u001b[1;33m                 \u001b[1;32mraise\u001b[0m \u001b[0mKeyError\u001b[0m\u001b[1;33m(\u001b[0m\u001b[0mkey\u001b[0m\u001b[1;33m)\u001b[0m \u001b[1;32mfrom\u001b[0m \u001b[0merr\u001b[0m\u001b[1;33m\u001b[0m\u001b[1;33m\u001b[0m\u001b[0m\n\u001b[0m\u001b[0;32m   3083\u001b[0m \u001b[1;33m\u001b[0m\u001b[0m\n\u001b[0;32m   3084\u001b[0m         \u001b[1;32mif\u001b[0m \u001b[0mtolerance\u001b[0m \u001b[1;32mis\u001b[0m \u001b[1;32mnot\u001b[0m \u001b[1;32mNone\u001b[0m\u001b[1;33m:\u001b[0m\u001b[1;33m\u001b[0m\u001b[1;33m\u001b[0m\u001b[0m\n",
      "\u001b[1;31mKeyError\u001b[0m: 'Localizacao'"
     ]
    }
   ],
   "source": [
    "series = casas['Localizacao']\n",
    "#teste = series.str.split()\n",
    "lista_numeros, lista_localizacoes = [], []\n",
    "for linha in series:\n",
    "    lista_numeros.append(linha[0])\n",
    "    lista_localizacoes.append(linha[3])\n",
    "\n",
    "print(lista_numeros)"
   ]
  },
  {
   "cell_type": "code",
   "execution_count": 41,
   "id": "eaf5b5b1",
   "metadata": {
    "scrolled": true
   },
   "outputs": [
    {
     "data": {
      "text/plain": [
       "<AxesSubplot:title={'center':'Tipos de Imóveis'}, xlabel='Tipo_De_Casa', ylabel='count'>"
      ]
     },
     "execution_count": 41,
     "metadata": {},
     "output_type": "execute_result"
    },
    {
     "data": {
      "image/png": "[encoded data removed]",
      "text/plain": [
       "<Figure size 432x288 with 1 Axes>"
      ]
     },
     "metadata": {
      "needs_background": "light"
     },
     "output_type": "display_data"
    }
   ],
   "source": [
    "plt.title('Tipos de Imóveis')\n",
    "plt.ylabel('Número de Imóveis')\n",
    "sns.countplot(x='Tipo_De_Casa', palette='Set2', data=casas)"
   ]
  }
 ],
 "metadata": {
  "kernelspec": {
   "display_name": "Python 3",
   "language": "python",
   "name": "python3"
  },
  "language_info": {
   "codemirror_mode": {
    "name": "ipython",
    "version": 3
   },
   "file_extension": ".py",
   "mimetype": "text/x-python",
   "name": "python",
   "nbconvert_exporter": "python",
   "pygments_lexer": "ipython3",
   "version": "3.8.8"
  }
 },
 "nbformat": 4,
 "nbformat_minor": 5
}
